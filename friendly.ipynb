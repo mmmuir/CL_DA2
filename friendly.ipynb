{
 "cells": [
  {
   "cell_type": "code",
   "execution_count": null,
   "metadata": {
    "scrolled": true
   },
   "outputs": [],
   "source": [
    "import spotipy\n",
    "from spotipy.oauth2 import SpotifyClientCredentials\n",
    "import pandas as pd\n",
    "import numpy as np\n",
    "import json\n",
    "import seaborn as sns\n",
    "from random import randint\n"
   ]
  },
  {
   "cell_type": "code",
   "execution_count": null,
   "metadata": {},
   "outputs": [],
   "source": [
    "# from py_spotipy_data_wrangling import streams, new_features, get_features, local_features, streams_af_df, no_skip_df, streams_af_df, cols_to_merge, sp\n",
    "# todo: remove unused variables\n",
    "streams_af_df = pd.read_pickle(\"./streams_af_df.p\")\n",
    "streams_df = pd.read_pickle(\"./streams_df.p\")\n",
    "no_skip_df = pd.read_pickle(\"./no_skip_df.p\")\n",
    "playlist_af_df = pd.read_pickle(\"./playlist_af_df.p\")\n",
    "\n",
    "cid = \"76c42909213b45a4a22596b35328705f\"\n",
    "secret = \"9229ae6311b54925ad2f62ad4e32ccf6\"\n",
    "username = \"nshsunmalb8t3brxxz0ks3e47\"\n",
    "sp = spotipy.Spotify(\n",
    "    client_credentials_manager=SpotifyClientCredentials(\n",
    "        client_id=cid, client_secret=secret\n",
    "    )\n",
    ")\n"
   ]
  },
  {
   "cell_type": "code",
   "execution_count": null,
   "metadata": {},
   "outputs": [],
   "source": [
    "# series2 = streams_af_df['spotify_track_uri']\n",
    "# series1 = streams['spotify_track_uri']\n",
    "# comparison = series1[~series1.isin(series2)]\n",
    "# comparison\n"
   ]
  },
  {
   "cell_type": "code",
   "execution_count": null,
   "metadata": {},
   "outputs": [],
   "source": [
    "# sp.audio_features('77cVT85pU7WH3elC1SE7Uu')\n"
   ]
  },
  {
   "cell_type": "code",
   "execution_count": null,
   "metadata": {},
   "outputs": [],
   "source": [
    "# streams.query('spotify_track_uri in @comparison')\n"
   ]
  },
  {
   "cell_type": "code",
   "execution_count": null,
   "metadata": {},
   "outputs": [],
   "source": [
    "# missing_tracks = []\n",
    "# for i in range(len(comparison)):\n",
    "#     missing_tracks.append(sp.track(comparison.iloc[i])['external_urls'])\n",
    "# missing_tracks\n"
   ]
  },
  {
   "cell_type": "code",
   "execution_count": null,
   "metadata": {},
   "outputs": [],
   "source": [
    "streams_af_df\n"
   ]
  },
  {
   "cell_type": "code",
   "execution_count": null,
   "metadata": {},
   "outputs": [],
   "source": [
    "streams_af_df[streams_af_df.ts.astype(\n",
    "    str).duplicated() == True].sort_values(by='ts')"
   ]
  },
  {
   "cell_type": "code",
   "execution_count": null,
   "metadata": {},
   "outputs": [],
   "source": [
    "# I don't recall listening to this artist so much. Investigating if it was on repeat on accident or something.\n",
    "\n",
    "why_tala = streams_af_df.query('\"Hope Tala\" in artist')\n",
    "why_why_tala = why_tala.groupby(by='date').sum(numeric_only=True\n",
    ").sort_values(by='ms_played', ascending=False)\n",
    "why_why_tala['ms_played'] = why_why_tala['ms_played'].apply(\n",
    "    lambda x: x / 60000)\n",
    "why_why_tala.head(50)"
   ]
  },
  {
   "cell_type": "code",
   "execution_count": null,
   "metadata": {},
   "outputs": [],
   "source": [
    "# Looks like I just let her run on most popular song repeat for a few hours.\n",
    "streams_af_df.query('date == \"11/27/2019\"').sort_values(by=\"ts\")\n"
   ]
  },
  {
   "cell_type": "code",
   "execution_count": null,
   "metadata": {},
   "outputs": [],
   "source": [
    "no_skip_df.query('artist.str.contains(\"(?i)miles davis\")', engine='python')\n"
   ]
  },
  {
   "cell_type": "code",
   "execution_count": null,
   "metadata": {},
   "outputs": [],
   "source": [
    "pivot_track = pd.DataFrame(no_skip_df.pivot_table(\n",
    "    columns=['artist', 'track'], aggfunc='size').sort_values(ascending=False))\n",
    "pivot_track"
   ]
  },
  {
   "cell_type": "code",
   "execution_count": null,
   "metadata": {},
   "outputs": [],
   "source": [
    "# # Check for tracks missing from new df\n",
    "# series1 = duration_prep['spotify_track_uri']\n",
    "# series2 = local_features['uri']\n",
    "# comparison = series1[~series1.isin(series2)]\n",
    "# comparison"
   ]
  },
  {
   "cell_type": "code",
   "execution_count": null,
   "metadata": {},
   "outputs": [],
   "source": [
    "# # Show missing track URLs for further investigation; track is likely removed or yet to be analyzed for audio_features.\n",
    "# missing_tracks = []\n",
    "# for i in range(len(comparison)):\n",
    "#     missing_tracks.append(sp.track(comparison.iloc[i])['external_urls'])\n",
    "# missing_tracks\n"
   ]
  },
  {
   "cell_type": "code",
   "execution_count": null,
   "metadata": {},
   "outputs": [],
   "source": [
    "# Most played tracks\n",
    "pivot_track = pd.DataFrame(no_skip_df.pivot_table(\n",
    "    columns=['artist', 'track'], aggfunc='size').sort_values(ascending=False))\n",
    "pivot_track"
   ]
  },
  {
   "cell_type": "code",
   "execution_count": null,
   "metadata": {},
   "outputs": [],
   "source": []
  },
  {
   "cell_type": "code",
   "execution_count": null,
   "metadata": {},
   "outputs": [],
   "source": [
    "# Most listened to artists by number of songs played\n",
    "pivot_artist = pd.DataFrame(no_skip_df.pivot_table(\n",
    "    columns=['artist'], aggfunc='size').sort_values(ascending=False))\n",
    "pivot_artist"
   ]
  },
  {
   "cell_type": "code",
   "execution_count": null,
   "metadata": {},
   "outputs": [],
   "source": [
    "no_skip_df\n"
   ]
  },
  {
   "cell_type": "code",
   "execution_count": null,
   "metadata": {},
   "outputs": [],
   "source": [
    "miles = no_skip_df.query('artist.str.contains(\"(?i)Miles Davis\")')\n",
    "pivot_miles = pd.pivot_table(miles, values='ms_played', index=[\n",
    "                             'album'], aggfunc='sum')\n",
    "pivot_miles = pivot_miles.sort_values(by='ms_played', ascending=False)\n",
    "miles"
   ]
  },
  {
   "cell_type": "code",
   "execution_count": null,
   "metadata": {},
   "outputs": [],
   "source": [
    "pivot_album_time = pd.pivot_table(\n",
    "    no_skip_df, values='ms_played', index=['album'], aggfunc='sum')"
   ]
  },
  {
   "cell_type": "code",
   "execution_count": null,
   "metadata": {},
   "outputs": [],
   "source": [
    "pivot_album_time = pivot_album_time.sort_values(\n",
    "    by='ms_played', ascending=False)\n",
    "pivot_album_time.head(20)"
   ]
  },
  {
   "cell_type": "code",
   "execution_count": null,
   "metadata": {},
   "outputs": [],
   "source": [
    "pivot_artist_time = pd.pivot_table(\n",
    "    no_skip_df, values=\"ms_played\", index=[\"artist\"], aggfunc=\"sum\"\n",
    ")\n"
   ]
  },
  {
   "cell_type": "code",
   "execution_count": null,
   "metadata": {},
   "outputs": [],
   "source": [
    "# print(pivot_artist_time.sort_values().to_string())\n",
    "artist_time = pivot_artist_time.sort_values(\n",
    "    by='ms_played', ascending=False).reset_index()\n",
    "print(artist_time.to_string())"
   ]
  },
  {
   "cell_type": "code",
   "execution_count": null,
   "metadata": {},
   "outputs": [],
   "source": [
    "# Artists played more than 10 mins\n",
    "repeated_artists = artist_time[:1750]\n",
    "# Number of unique tracks played from those artists\n",
    "\n",
    "len(streams_af_df[\"track\"].unique())\n"
   ]
  },
  {
   "cell_type": "code",
   "execution_count": null,
   "metadata": {},
   "outputs": [],
   "source": [
    "still_repeated = repeated_artists[\"artist\"]\n"
   ]
  },
  {
   "cell_type": "code",
   "execution_count": null,
   "metadata": {},
   "outputs": [],
   "source": [
    "# Count number of unique tracks per artist and create ascending list\n",
    "still_still_repeated = no_skip_df.query(\"artist in @still_repeated\")\n",
    "# still_still_repeated.loc[:, 'artist'] = still_still_repeated.copy().loc[:, 'artist'].astype(str)\n",
    "group = still_still_repeated.groupby(\"artist\")\n",
    "songs_per_artist = group.apply(lambda x: x[\"track\"].unique())\n",
    "unique_songs = songs_per_artist.reset_index(name=\"unique_titles\")\n"
   ]
  },
  {
   "cell_type": "code",
   "execution_count": null,
   "metadata": {},
   "outputs": [],
   "source": [
    "unique_songs['unique_count'] = unique_songs.iloc[:, 1].str.len()"
   ]
  },
  {
   "cell_type": "code",
   "execution_count": null,
   "metadata": {},
   "outputs": [],
   "source": [
    "unique_songs = unique_songs.sort_values(by=\"unique_count\").reset_index()\n"
   ]
  },
  {
   "cell_type": "code",
   "execution_count": null,
   "metadata": {},
   "outputs": [],
   "source": [
    "unique_export = unique_songs.query(\"unique_count <= 8\")[\"artist\"]\n"
   ]
  },
  {
   "cell_type": "code",
   "execution_count": null,
   "metadata": {},
   "outputs": [],
   "source": [
    "pivot_artist_time.ms_played\n"
   ]
  },
  {
   "cell_type": "code",
   "execution_count": null,
   "metadata": {},
   "outputs": [],
   "source": [
    "# Artists with 10 or less songs played that I've heard more than an hour of. Indicative of artists I should explore more of.\n",
    "pivot_artist_time.query('ms_played > 3600000').query(\n",
    "    'artist in @unique_export')"
   ]
  },
  {
   "cell_type": "markdown",
   "metadata": {},
   "source": [
    "Todo: Next step after the above is to plot least uniques with most ms played"
   ]
  },
  {
   "cell_type": "code",
   "execution_count": null,
   "metadata": {},
   "outputs": [],
   "source": []
  },
  {
   "cell_type": "code",
   "execution_count": null,
   "metadata": {},
   "outputs": [],
   "source": [
    "# Convert\n",
    "pivot_artist_time['ms_played'] = pd.to_timedelta(\n",
    "    pivot_artist_time.ms_played, unit='ms')"
   ]
  },
  {
   "cell_type": "code",
   "execution_count": null,
   "metadata": {},
   "outputs": [],
   "source": [
    "def format_td(td):\n",
    "    '''Converts timedelta to hh:mm:ss strictly for presentation purposes'''\n",
    "    minutes, seconds = divmod(td.seconds + td.days * 86400, 60)\n",
    "    hours, minutes = divmod(minutes, 60)\n",
    "    return '{:d}:{:02d}:{:02d}'.format(hours, minutes, seconds, td.microseconds)"
   ]
  },
  {
   "cell_type": "code",
   "execution_count": null,
   "metadata": {},
   "outputs": [],
   "source": [
    "pivot_artist_time['ms_played'] = pivot_artist_time['ms_played'].apply(format_td)"
   ]
  },
  {
   "cell_type": "code",
   "execution_count": null,
   "metadata": {},
   "outputs": [],
   "source": [
    "# Show longest songs\n",
    "no_skip_df.sort_values(by=\"ms_played\", axis=0, ascending=False)\n"
   ]
  },
  {
   "cell_type": "code",
   "execution_count": null,
   "metadata": {},
   "outputs": [],
   "source": [
    "# How to control this for missing months? do october 25 2019 thru 2022\n",
    "sns_prep = streams.query('year == \"2019\"| year == \"2020\" | year == \"2021\"')\n",
    "sns_prep = pd.pivot_table(sns_prep, values='ms_played', index=[\n",
    "                          'month'], aggfunc='sum',).reset_index()\n",
    "sns_prep['hours played'] = sns_prep['ms_played'].apply(lambda x: x / 3600000)\n",
    "sns.barplot(data=sns_prep, x='month', y='hours played')"
   ]
  },
  {
   "cell_type": "code",
   "execution_count": null,
   "metadata": {},
   "outputs": [],
   "source": [
    "# sum of unique uris closely maps to total skips per month\n",
    "sns_prep = streams_af_df.copy().drop_duplicates(subset='id')\n",
    "sns_prep['count'] = 1\n",
    "sns_prep = sns_prep.loc[:, ['month', 'duration_ms', 'ms_played',\n",
    "                            'shuffle', 'count']].groupby(by='month').sum(numeric_only=True)\n",
    "sns.barplot(data=sns_prep, x=sns_prep.index, y='count')"
   ]
  },
  {
   "cell_type": "code",
   "execution_count": null,
   "metadata": {},
   "outputs": [],
   "source": [
    "# good way to find months with most music discovery along with unique URIs\n",
    "sns_prep = streams_af_df.copy().query('(ms_played / duration_ms) < 0.25')\n",
    "sns_prep.at[:, 'count'] = 1\n",
    "sns_prep = sns_prep.loc[:, ['month', 'duration_ms', 'ms_played',\n",
    "                            'shuffle', 'count']].groupby(by='month').sum(numeric_only=True)\n",
    "sns.barplot(data=sns_prep, x=sns_prep.index, y='count')"
   ]
  },
  {
   "cell_type": "code",
   "execution_count": null,
   "metadata": {},
   "outputs": [],
   "source": [
    "# common keys of listened tracks\n",
    "no_skip_df.loc[:, 'ts'] = no_skip_df.loc[:, 'ts'].astype(str)\n",
    "pivot_track = pd.DataFrame(no_skip_df.drop_duplicates(subset='ts').pivot_table(\n",
    "    columns=['key_signature'], aggfunc='size').sort_values(ascending=False))\n",
    "pivot_track"
   ]
  },
  {
   "cell_type": "code",
   "execution_count": null,
   "metadata": {},
   "outputs": [],
   "source": [
    "def open_wheel():\n",
    "    with open(\"camelot.json\") as json_file:\n",
    "        camelot_json = json.load(json_file)\n",
    "        wheel = camelot_json\n",
    "        return wheel"
   ]
  },
  {
   "cell_type": "code",
   "execution_count": null,
   "metadata": {},
   "outputs": [],
   "source": [
    "# Todo: see if df approach is better than dict approach\n",
    "# compute is about the same, probably turn this approach into a function\n",
    "wheel = open_wheel()\n",
    "wheel = pd.DataFrame.from_dict(wheel)\n",
    "song_key = playlist_af_df.loc[1, 'camelot']\n",
    "friendkey = wheel.loc['dominant_relative', song_key]\n",
    "playlist_af_df.query('camelot in @friendkey')"
   ]
  },
  {
   "cell_type": "code",
   "execution_count": null,
   "metadata": {},
   "outputs": [],
   "source": [
    "# # This version works with uri\n",
    "# #should also have function to get uri from song title + artist\n",
    "# #todo: proper type hinting and default values\n",
    "# # separate functions i suppose, maybe with decorators\n",
    "# # https://stackoverflow.com/questions/62153371/best-way-to-create-python-function-with-multiple-options\n",
    "\n",
    "\n",
    "def get_friendly(\n",
    "    df,\n",
    "    tempo_range=10,\n",
    "    uri=None,\n",
    "    index=None,\n",
    "    shuffle=None,\n",
    "    playlist=False,\n",
    "    shift=[\"all\"],\n",
    "):\n",
    "    wheel = open_wheel()\n",
    "    df = df.drop_duplicates(subset=\"id\").reset_index()\n",
    "    if uri:\n",
    "        song_selected = df.loc[df[\"id\"] == uri].iloc[0]\n",
    "    elif index or index == 0:\n",
    "        song_selected = df.loc[index]\n",
    "    elif shuffle:\n",
    "        song_selected = df.iloc[randint(0, len(df) - 1)]\n",
    "    else:\n",
    "        print(\n",
    "            \"Error: no song selected. Specify shuffle=True to operate on random song.\"\n",
    "        )\n",
    "    # Designate desired tempo range\n",
    "    selected_tempo = song_selected[\"tempo\"]\n",
    "    acceptable_tempos = range(\n",
    "        (selected_tempo - tempo_range), (selected_tempo + tempo_range), 1\n",
    "    )\n",
    "\n",
    "    # Select harmonically compatible key signatures in camelot.json\n",
    "    friendly_keys = []\n",
    "    for i in range(len(shift)):\n",
    "        key = wheel[song_selected[\"camelot\"]][shift[i]]\n",
    "        friendly_keys.append(key)\n",
    "        print(key)\n",
    "        if type(key) == list:\n",
    "            friendly_keys.extend(key)\n",
    "    # Show tracks with harmonically compatible key signatures within a given tempo range. Accounts for Spotify's tendency to double or halve numeric tempos.\n",
    "    return df.query(\n",
    "        \"camelot in @friendly_keys & (tempo in @acceptable_tempos | tempo * 2 in @acceptable_tempos | tempo / 2 in @acceptable_tempos)\"\n",
    "    )\n",
    "\n",
    "\n",
    "# get_friendly(playlist_af_df, tempo_range=10, uri='5jh3f8fy8a335XYDyJ7x9R', shift=['all']).sort_values(by='track')\n",
    "get_friendly(streams_af_df, tempo_range=10, index=0, shift=[\"all\"]).sort_values(\n",
    "    by=\"track\"\n",
    ")\n",
    "# get_friendly(playlist_af_df, tempo_range=10, shuffle=True, shift=['all']).sort_values(by='track')\n"
   ]
  },
  {
   "cell_type": "code",
   "execution_count": null,
   "metadata": {},
   "outputs": [],
   "source": [
    "streams_af_df.loc[0]\n"
   ]
  }
 ],
 "metadata": {
  "kernelspec": {
   "display_name": "venv_sp",
   "language": "python",
   "name": "python3"
  },
  "language_info": {
   "codemirror_mode": {
    "name": "ipython",
    "version": 3
   },
   "file_extension": ".py",
   "mimetype": "text/x-python",
   "name": "python",
   "nbconvert_exporter": "python",
   "pygments_lexer": "ipython3",
   "version": "3.9.2 (default, Feb 28 2021, 17:03:44) \n[GCC 10.2.1 20210110]"
  },
  "vscode": {
   "interpreter": {
    "hash": "6c8bf7f0555c32900acd711d853e09cdea56c6cb38ebfb9f86148bd2d72dff69"
   }
  }
 },
 "nbformat": 4,
 "nbformat_minor": 2
}
