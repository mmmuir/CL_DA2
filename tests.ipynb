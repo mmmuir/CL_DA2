{
 "cells": [
  {
   "cell_type": "code",
   "execution_count": null,
   "metadata": {},
   "outputs": [],
   "source": [
    "from main_data import (\n",
    "    key_to_camelot,\n",
    "    open_wheel,\n",
    "    add_features,\n",
    "    get_playlist,\n",
    "    get_friendly,\n",
    "    pickl,\n",
    "    unpickl,\n",
    "    sp\n",
    ")\n"
   ]
  },
  {
   "cell_type": "code",
   "execution_count": null,
   "metadata": {},
   "outputs": [],
   "source": [
    "# Investigate lost data after adding audio features.\n",
    "def check_loss(df, af_df, col='id', view='diff'):\n",
    "    diff = df[col][~df[col].isin(af_df[col])]\n",
    "    urls = []\n",
    "    for i in range(len(diff)):\n",
    "        urls.append(sp.track(diff.iloc[i])['external_urls'])\n",
    "    if view=='diff':\n",
    "        return df.query('id in @diff')\n",
    "    elif view=='urls':\n",
    "        return urls\n",
    "\n",
    "check_loss(streams_df, streams_af_df)"
   ]
  },
  {
   "cell_type": "code",
   "execution_count": null,
   "metadata": {},
   "outputs": [],
   "source": [
    "(\n",
    "    all_streams_df,\n",
    "    streams_df,\n",
    "    streams_af_df,\n",
    "    no_skip_df,\n",
    "    playlist_af_df,\n",
    "    pod_df,\n",
    "    wheel_df,\n",
    ") = unpickl(\n",
    "    \"all_streams_df.p\",\n",
    "    \"streams_df.p\",\n",
    "    \"streams_af_df.p\",\n",
    "    \"no_skip_df.p\",\n",
    "    \"playlist_af_df.p\",\n",
    "    \"podcasts_df.p\",\n",
    "    \"wheel_df.p\",\n",
    ")"
   ]
  },
  {
   "cell_type": "code",
   "execution_count": null,
   "metadata": {},
   "outputs": [],
   "source": [
    "# all_streams_df\n",
    "# streams_df\n",
    "streams_af_df\n",
    "# no_skip_df\n",
    "# playlist_af_df\n",
    "# pod_df\n",
    "# wheel_df"
   ]
  },
  {
   "cell_type": "code",
   "execution_count": null,
   "metadata": {},
   "outputs": [],
   "source": [
    "# pd.to_timedelta\n",
    "def list_duplicatetimes(df):\n",
    "    return df[df.ddate.duplicated() == True].sort_values(by=\"ddate\")\n",
    "\n",
    "list_duplicatetimes(all_streams_df)\n",
    "\n",
    "\n",
    "# def format_td(td):\n",
    "#     \"\"\"Converts timedelta to hh:mm:ss strictly for presentation purposes\"\"\"\n",
    "#     minutes, seconds = divmod(td.seconds + td.days * 86400, 60)\n",
    "#     hours, minutes = divmod(minutes, 60)\n",
    "#     return \"{:d}:{:02d}:{:02d}\".format(hours, minutes, seconds, td.microseconds)\n"
   ]
  },
  {
   "cell_type": "code",
   "execution_count": null,
   "metadata": {},
   "outputs": [],
   "source": []
  }
 ],
 "metadata": {
  "kernelspec": {
   "display_name": "Python 3 (ipykernel)",
   "language": "python",
   "name": "python3"
  },
  "language_info": {
   "codemirror_mode": {
    "name": "ipython",
    "version": 3
   },
   "file_extension": ".py",
   "mimetype": "text/x-python",
   "name": "python",
   "nbconvert_exporter": "python",
   "pygments_lexer": "ipython3",
   "version": "3.9.10+"
  },
  "vscode": {
   "interpreter": {
    "hash": "6c8bf7f0555c32900acd711d853e09cdea56c6cb38ebfb9f86148bd2d72dff69"
   }
  }
 },
 "nbformat": 4,
 "nbformat_minor": 2
}
