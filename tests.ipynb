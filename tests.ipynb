{
 "cells": [
  {
   "cell_type": "code",
   "execution_count": null,
   "metadata": {},
   "outputs": [],
   "source": [
    "# Investigate lost data after adding audio features.\n",
    "def check_loss(df, af_df, col='id'):\n",
    "    return df[~df[col].isin(af_df[col])]\n",
    "\n",
    "check_loss(streams_df, streams_af_df)"
   ]
  }
 ],
 "metadata": {
  "kernelspec": {
   "display_name": "venv_sp",
   "language": "python",
   "name": "python3"
  },
  "language_info": {
   "name": "python",
   "version": "3.9.2 (default, Feb 28 2021, 17:03:44) \n[GCC 10.2.1 20210110]"
  },
  "orig_nbformat": 4,
  "vscode": {
   "interpreter": {
    "hash": "6c8bf7f0555c32900acd711d853e09cdea56c6cb38ebfb9f86148bd2d72dff69"
   }
  }
 },
 "nbformat": 4,
 "nbformat_minor": 2
}
