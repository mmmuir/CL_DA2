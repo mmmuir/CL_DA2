{
 "cells": [
  {
   "cell_type": "code",
   "execution_count": 2,
   "metadata": {},
   "outputs": [],
   "source": [
    "from main_data import (\n",
    "    key_to_camelot,\n",
    "    open_wheel,\n",
    "    add_features,\n",
    "    json_to_df,\n",
    "    get_playlist,\n",
    "    get_friendly,\n",
    "    sp\n",
    ")\n"
   ]
  },
  {
   "cell_type": "code",
   "execution_count": 40,
   "metadata": {},
   "outputs": [
    {
     "data": {
      "text/plain": [
       "Series([], Name: 0, dtype: object)"
      ]
     },
     "execution_count": 40,
     "metadata": {},
     "output_type": "execute_result"
    }
   ],
   "source": [
    "# Investigate lost data after adding audio features.\n",
    "def check_loss(df, af_df, col=0, view='diff'):\n",
    "    diff = df[col][~df[col].isin(af_df[col])]\n",
    "    # urls = []\n",
    "    # for i in range(len(diff)):\n",
    "    #     urls.append(sp.track(diff.iloc[i])['external_urls'])\n",
    "    # if view=='diff':\n",
    "    #     return df.query('id in @diff')\n",
    "    # elif view=='urls':\n",
    "    #     return urls\n",
    "    return diff\n",
    "\n",
    "test1_1, test1_2, test2_1, test2_2 = json_to_df('myNoisetest.json', \"myNoisetest2.json\", 'myNoisetest_new.json', \"myNoisetest_new2.json\")\n",
    "\n",
    "check_loss(test2_1, test1_1)"
   ]
  },
  {
   "cell_type": "code",
   "execution_count": 45,
   "metadata": {},
   "outputs": [
    {
     "data": {
      "text/html": [
       "<div>\n",
       "<style scoped>\n",
       "    .dataframe tbody tr th:only-of-type {\n",
       "        vertical-align: middle;\n",
       "    }\n",
       "\n",
       "    .dataframe tbody tr th {\n",
       "        vertical-align: top;\n",
       "    }\n",
       "\n",
       "    .dataframe thead th {\n",
       "        text-align: right;\n",
       "    }\n",
       "</style>\n",
       "<table border=\"1\" class=\"dataframe\">\n",
       "  <thead>\n",
       "    <tr style=\"text-align: right;\">\n",
       "      <th></th>\n",
       "      <th>0</th>\n",
       "    </tr>\n",
       "  </thead>\n",
       "  <tbody>\n",
       "    <tr>\n",
       "      <th>0</th>\n",
       "      <td>Throw Some D's Remix</td>\n",
       "    </tr>\n",
       "    <tr>\n",
       "      <th>1</th>\n",
       "      <td>Bounce</td>\n",
       "    </tr>\n",
       "    <tr>\n",
       "      <th>10</th>\n",
       "      <td>True Story (feat. Jay Rock &amp; Jay Worthy)</td>\n",
       "    </tr>\n",
       "    <tr>\n",
       "      <th>100</th>\n",
       "      <td>The Queen's Suite: The Single Petal Of A Rose</td>\n",
       "    </tr>\n",
       "    <tr>\n",
       "      <th>1000</th>\n",
       "      <td>Don't Judge Me</td>\n",
       "    </tr>\n",
       "    <tr>\n",
       "      <th>...</th>\n",
       "      <td>...</td>\n",
       "    </tr>\n",
       "    <tr>\n",
       "      <th>9995</th>\n",
       "      <td>DELIRIO DE GRANDEZA</td>\n",
       "    </tr>\n",
       "    <tr>\n",
       "      <th>9996</th>\n",
       "      <td>Auntie's Lock/Infinitum</td>\n",
       "    </tr>\n",
       "    <tr>\n",
       "      <th>9997</th>\n",
       "      <td>Move - Live At The Royal Rooster, New York, Se...</td>\n",
       "    </tr>\n",
       "    <tr>\n",
       "      <th>9998</th>\n",
       "      <td>Let's Do It</td>\n",
       "    </tr>\n",
       "    <tr>\n",
       "      <th>9999</th>\n",
       "      <td>YiPiYaY</td>\n",
       "    </tr>\n",
       "  </tbody>\n",
       "</table>\n",
       "<p>17968 rows × 1 columns</p>\n",
       "</div>"
      ],
      "text/plain": [
       "                                                      0\n",
       "0                                  Throw Some D's Remix\n",
       "1                                                Bounce\n",
       "10             True Story (feat. Jay Rock & Jay Worthy)\n",
       "100       The Queen's Suite: The Single Petal Of A Rose\n",
       "1000                                     Don't Judge Me\n",
       "...                                                 ...\n",
       "9995                                DELIRIO DE GRANDEZA\n",
       "9996                            Auntie's Lock/Infinitum\n",
       "9997  Move - Live At The Royal Rooster, New York, Se...\n",
       "9998                                        Let's Do It\n",
       "9999                                            YiPiYaY\n",
       "\n",
       "[17968 rows x 1 columns]"
      ]
     },
     "execution_count": 45,
     "metadata": {},
     "output_type": "execute_result"
    }
   ],
   "source": [
    "test2_2\n",
    "# test1_2"
   ]
  },
  {
   "cell_type": "code",
   "execution_count": null,
   "metadata": {},
   "outputs": [],
   "source": [
    "(\n",
    "    all_streams,\n",
    "    music_streams_no_features,\n",
    "    music_streams,\n",
    "    no_skip_df,\n",
    "    playlist_example,\n",
    "    podcasts,\n",
    "    wheel_df,\n",
    ") = unpickl(\n",
    "    \"all_streams.p\",\n",
    "    \"music_streams_no_features.p\",\n",
    "    \"music_streams.p\",\n",
    "    \"no_skip_df.p\",\n",
    "    \"playlist_example.p\",\n",
    "    \"podcasts.p\",\n",
    "    \"wheel_df.p\",\n",
    ")"
   ]
  },
  {
   "cell_type": "code",
   "execution_count": null,
   "metadata": {},
   "outputs": [],
   "source": [
    "# all_streams\n",
    "# music_streams_no_features\n",
    "music_streams\n",
    "# no_skip_df\n",
    "# playlist_example\n",
    "# podcasts\n",
    "# wheel_df"
   ]
  },
  {
   "cell_type": "code",
   "execution_count": null,
   "metadata": {},
   "outputs": [],
   "source": [
    "# pd.to_timedelta\n",
    "def list_duplicatetimes(df):\n",
    "    return df[df.ddate.duplicated() == True].sort_values(by=\"ddate\")\n",
    "\n",
    "list_duplicatetimes(all_streams)\n",
    "\n",
    "\n",
    "# def format_td(td):\n",
    "#     \"\"\"Converts timedelta to hh:mm:ss strictly for presentation purposes\"\"\"\n",
    "#     minutes, seconds = divmod(td.seconds + td.days * 86400, 60)\n",
    "#     hours, minutes = divmod(minutes, 60)\n",
    "#     return \"{:d}:{:02d}:{:02d}\".format(hours, minutes, seconds, td.microseconds)\n"
   ]
  },
  {
   "cell_type": "code",
   "execution_count": null,
   "metadata": {},
   "outputs": [],
   "source": []
  }
 ],
 "metadata": {
  "kernelspec": {
   "display_name": "venv_sp",
   "language": "python",
   "name": "python3"
  },
  "language_info": {
   "codemirror_mode": {
    "name": "ipython",
    "version": 3
   },
   "file_extension": ".py",
   "mimetype": "text/x-python",
   "name": "python",
   "nbconvert_exporter": "python",
   "pygments_lexer": "ipython3",
   "version": "3.10.0"
  },
  "vscode": {
   "interpreter": {
    "hash": "eb80a6b1853b89918e135d5cc2eae4ed721cf24d0e7f528dd6b030cd1f3201cc"
   }
  }
 },
 "nbformat": 4,
 "nbformat_minor": 2
}
