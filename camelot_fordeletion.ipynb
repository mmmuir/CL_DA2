{
 "cells": [
  {
   "cell_type": "code",
   "execution_count": null,
   "metadata": {},
   "outputs": [],
   "source": [
    "import spotipy\n",
    "from spotipy.oauth2 import SpotifyClientCredentials\n",
    "import pandas as pd\n",
    "import numpy as np\n",
    "import json"
   ]
  },
  {
   "cell_type": "code",
   "execution_count": null,
   "metadata": {},
   "outputs": [],
   "source": [
    "cid = ''\n",
    "secret = ''\n",
    "sp = spotipy.Spotify(client_credentials_manager=SpotifyClientCredentials(client_id=cid, client_secret=secret))"
   ]
  },
  {
   "cell_type": "code",
   "execution_count": null,
   "metadata": {},
   "outputs": [],
   "source": [
    "# Example playlist: \"wow im at the beach\"\n",
    "playlist_uri = 'spotify:playlist:5CF6KvWn85N6DoWufOjP5T'"
   ]
  },
  {
   "cell_type": "code",
   "execution_count": null,
   "metadata": {},
   "outputs": [],
   "source": [
    "offset = 0\n",
    "playlist_res = []\n",
    "\n",
    "while True:\n",
    "    response = sp.playlist_items(playlist_uri,\n",
    "                                 offset=offset,\n",
    "                                 fields='items.track.id,items.track.artists,items.track.name,items.track.album,total',\n",
    "                                 additional_types=['track'])\n",
    "\n",
    "    if len(response['items']) == 0:\n",
    "        # Combine inner lists and exit loop\n",
    "        # Todo: ask how this comprehension actually works\n",
    "        playlist_res = [j for i in playlist_res for j in i]\n",
    "        break\n",
    "\n",
    "    playlist_res.append(response['items'])\n",
    "    offset = offset + len(response['items'])\n",
    "    print(offset, \"/\", response['total'])"
   ]
  },
  {
   "cell_type": "code",
   "execution_count": null,
   "metadata": {},
   "outputs": [],
   "source": [
    "playlist_res"
   ]
  },
  {
   "cell_type": "code",
   "execution_count": null,
   "metadata": {},
   "outputs": [],
   "source": [
    "# Create empty df to add json response to\n",
    "df = pd.DataFrame(columns=['artist', 'track_name',\n",
    "                  'id', 'album'], index=range(len(playlist_res)))"
   ]
  },
  {
   "cell_type": "code",
   "execution_count": null,
   "metadata": {},
   "outputs": [],
   "source": [
    "# Add artist, album, song title, and ID to df\n",
    "for i in range(len(playlist_res)):\n",
    "    df['artist'].iloc[i] = playlist_res[i]['track']['artists'][0]['name']\n",
    "    df['track_name'].iloc[i] = playlist_res[i]['track']['name']\n",
    "    df['id'].iloc[i] = playlist_res[i]['track']['id']\n",
    "    df['album'].iloc[i] = playlist_res[i]['track']['album']['name']\n"
   ]
  },
  {
   "cell_type": "code",
   "execution_count": null,
   "metadata": {},
   "outputs": [],
   "source": [
    "df"
   ]
  },
  {
   "cell_type": "code",
   "execution_count": null,
   "metadata": {},
   "outputs": [],
   "source": [
    "# Get audio features while avoiding rate limit\n",
    "\n",
    "features = []\n",
    "offset_min = 0\n",
    "offset_max = 50\n",
    "\n",
    "while True:\n",
    "    if offset_min > len(df):\n",
    "        break\n",
    "    features.append(sp.audio_features(df['id'].iloc[offset_min:offset_max]))\n",
    "    offset_min += 50\n",
    "    offset_max += 50"
   ]
  },
  {
   "cell_type": "code",
   "execution_count": null,
   "metadata": {},
   "outputs": [],
   "source": [
    "# Combine lists within previously created list and add to new DataFrame\n",
    "features = [j for i in features for j in i]\n",
    "df_features = pd.DataFrame(features)"
   ]
  },
  {
   "cell_type": "code",
   "execution_count": null,
   "metadata": {},
   "outputs": [],
   "source": [
    "# Combine DataFrames\n",
    "merged = df.combine_first(df_features.drop(columns=['track_href', 'analysis_url', 'uri', 'type', 'acousticness', 'danceability',\n",
    "                                                    'energy', 'instrumentalness', 'liveness', 'loudness', 'speechiness', 'valence']))\n",
    "\n",
    "# Round tempos to nearest whole number for easier. Playlist generation works with tempo ranges, so decimal precision is unnecessary.\n",
    "merged['tempo'] = round(merged['tempo']).astype(int)"
   ]
  },
  {
   "cell_type": "code",
   "execution_count": null,
   "metadata": {},
   "outputs": [],
   "source": [
    "# Convert pitch class and mode integer columns to diatonic key signature column.\n",
    "def key_to_camelot(df):\n",
    "    df['key'] = df['key'].astype(str).replace({'-1': 'no key detected', '0': 'C', '1': 'D-flat', '2': 'D', '3': 'E-flat', '4': 'E',\n",
    "                                                   '5': 'F', '6': 'F-sharp', '7': 'G', '8': 'A-flat', '9': 'A', '10': 'B-flat', '11': 'B'})\n",
    "\n",
    "    df['mode'] = np.where(df['mode'] == 1, 'major', 'minor')\n",
    "    df['key_signature'] = df['key'] + ' ' + df['mode']\n",
    "    # Dictionary for mapping key signature integer value to pitch scale. Consult https://en.wikipedia.org/wiki/Pitch_class if you would like to confirm the translation.\n",
    "\n",
    "    key_to_wheel = {'A-flat minor': '1A', 'B major': '1B', 'E-flat minor': '2A', 'F-sharp major': '2B', 'B-flat minor': '3A', 'D-flat major': '3B',\n",
    "                    'F minor': '4A', 'A-flat major': '4B', 'C minor': '5A', 'E-flat major': '5B', 'G minor': '6A', 'B-flat major': '6B',\n",
    "                    'D minor': '7A', 'F major': '7B', 'A minor': '8A', 'C major': '8B', 'E minor': '9A', 'G major': '9B',\n",
    "                    'B minor': '10A', 'D major': '10B', 'F-sharp minor': '11A', 'A major': '11B', 'D-flat minor': '12A', 'E major': '12B'}\n",
    "\n",
    "    # Convert diatonic key signatures to Camelot wheel equivalents.\n",
    "\n",
    "    df['camelot'] = df['key_signature'].map(key_to_wheel)\n",
    "    df = df.drop(columns=['key', 'mode'])\n",
    "\n"
   ]
  },
  {
   "cell_type": "code",
   "execution_count": null,
   "metadata": {},
   "outputs": [],
   "source": [
    "# Load Camelot wheel, represented as json data.\n",
    "with open('camelot.json') as json_file:\n",
    "    camelot_json = json.load(json_file)\n",
    "    wheel = camelot_json"
   ]
  },
  {
   "cell_type": "code",
   "execution_count": null,
   "metadata": {},
   "outputs": [],
   "source": [
    "key_to_camelot(merged)"
   ]
  },
  {
   "cell_type": "code",
   "execution_count": null,
   "metadata": {},
   "outputs": [],
   "source": [
    "merged"
   ]
  },
  {
   "cell_type": "code",
   "execution_count": null,
   "metadata": {},
   "outputs": [],
   "source": [
    "# Replace str with track ID corresponding to the song you wish to perform queries on.\n",
    "\n",
    "input_song_id = '6CUk0IQxiFNZRmCKP8t63o'\n",
    "\n",
    "# Replace line above with line below for a random song.\n",
    "# input_song_id = merged.iloc[randint(0, len(merged) - 1)]['id']\n"
   ]
  },
  {
   "cell_type": "code",
   "execution_count": null,
   "metadata": {},
   "outputs": [],
   "source": [
    "\n",
    "song_selected = merged.loc[merged['id'] == input_song_id]\n",
    "song_selected"
   ]
  },
  {
   "cell_type": "code",
   "execution_count": null,
   "metadata": {},
   "outputs": [],
   "source": [
    "merged = merged[['track_name', 'artist', 'album', 'tempo',\n",
    "                 'key_signature', 'camelot', 'time_signature', 'duration_ms', 'id']]\n"
   ]
  },
  {
   "cell_type": "code",
   "execution_count": null,
   "metadata": {},
   "outputs": [],
   "source": [
    "# Select harmonically compatible key signatures in camelot.json \n",
    "friendly_keys = wheel[song_selected['camelot'][song_selected.index[0]]]['all']\n",
    "\n",
    "# Designate desired tempo range\n",
    "tempo_range = 10\n",
    "selected_tempo = song_selected['tempo'][song_selected.index[0]]\n",
    "acceptable_tempos = list(range(selected_tempo - tempo_range, selected_tempo + tempo_range, 1))\n",
    "\n",
    "# Show tracks with harmonically compatible key signatures within a given tempo range. Accounts for Spotify's tendency to double or halve numeric tempos.\n",
    "merged.query('camelot in @friendly_keys & (tempo in @acceptable_tempos | tempo * 2 in @acceptable_tempos | tempo / 2 in @acceptable_tempos)')"
   ]
  }
 ],
 "metadata": {
  "kernelspec": {
   "display_name": "evic",
   "language": "python",
   "name": "python3"
  },
  "language_info": {
   "codemirror_mode": {
    "name": "ipython",
    "version": 3
   },
   "file_extension": ".py",
   "mimetype": "text/x-python",
   "name": "python",
   "nbconvert_exporter": "python",
   "pygments_lexer": "ipython3",
   "version": "3.10.0"
  },
  "orig_nbformat": 4,
  "vscode": {
   "interpreter": {
    "hash": "136c9074e6897182c726d15e696764f76abda4b0295aa5f6561daa3f0fb5ad5c"
   }
  }
 },
 "nbformat": 4,
 "nbformat_minor": 2
}
